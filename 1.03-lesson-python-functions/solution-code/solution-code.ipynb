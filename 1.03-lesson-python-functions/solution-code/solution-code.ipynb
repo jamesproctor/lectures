{
 "cells": [
  {
   "cell_type": "markdown",
   "metadata": {},
   "source": [
    "<img src=\"http://imgur.com/1ZcRyrc.png\" style=\"float: left; margin: 20px; height: 55px\">\n",
    "\n",
    "# Functions\n",
    "\n",
    "_Authors: Matt Brems (DC), Riley Dallas (ATX)_\n",
    "\n",
    "---\n",
    "\n",
    "### Lesson objectives\n",
    "\n",
    "By the end of this lesson, you should be able to:\n",
    "\n",
    "1. Successfully **create** and **invoke** a function\n",
    "2. Understand how to use parameters in a function\n",
    "3. Understand how to return a value from a function\n",
    "4. Know what a lambda function is and how to create one\n",
    "\n",
    "\n",
    "## Intro\n",
    "---\n",
    "\n",
    "From the pre-work (and perhaps what you've done before DSI), remember that functions:\n",
    "- start with `def`, followed by the name of the function.\n",
    "- take inputs (or arguments).\n",
    "- return outputs.\n",
    "- use `return` instead of `print`.\n",
    "- are used frequently to make coding more efficient.\n",
    "\n",
    "One of my favorite novels - Ray Bradbury's *Fahrenheit 451* - has a quote that is appropriate here: \n",
    "> \"We begin by beginning, I guess.\""
   ]
  },
  {
   "cell_type": "markdown",
   "metadata": {},
   "source": [
    "## Activity: Basic function\n",
    "---\n",
    "\n",
    "Create a function in cell below called `greeting` that prints `\"Howdy\"`."
   ]
  },
  {
   "cell_type": "code",
   "execution_count": 1,
   "metadata": {},
   "outputs": [],
   "source": [
    "def greeting():\n",
    "    print('Howdy')"
   ]
  },
  {
   "cell_type": "code",
   "execution_count": 2,
   "metadata": {},
   "outputs": [
    {
     "name": "stdout",
     "output_type": "stream",
     "text": [
      "Howdy\n"
     ]
    }
   ],
   "source": [
    "greeting()"
   ]
  },
  {
   "cell_type": "markdown",
   "metadata": {},
   "source": [
    "## Activity: Function parameters\n",
    "---\n",
    "\n",
    "In the [Kaggle Titanic competition](https://www.kaggle.com/c/titanic/data), the names of everyone in the manifest look like this:\n",
    "> Last, Title. First\n",
    "\n",
    "Create a function called `titanic_name` that accepts 3 parameters:\n",
    "- `first_name`\n",
    "- `last_name`\n",
    "- `title` \n",
    "\n",
    "And prints the full name in the format above."
   ]
  },
  {
   "cell_type": "code",
   "execution_count": 3,
   "metadata": {},
   "outputs": [
    {
     "name": "stdout",
     "output_type": "stream",
     "text": [
      "Smith, Mr. John\n",
      "Smith, Mr. John\n"
     ]
    }
   ],
   "source": [
    "def titanic_name(first_name, last_name, title):\n",
    "    # Via string concatentation\n",
    "    print(last_name + ', ' + title + '. ' + first_name)\n",
    "    \n",
    "    # Via string interpolation\n",
    "    print('{}, {}. {}'.format(last_name, title, first_name))\n",
    "    \n",
    "titanic_name('John', 'Smith', 'Mr')"
   ]
  },
  {
   "cell_type": "markdown",
   "metadata": {},
   "source": [
    "## Named parameters vs Ordered parameters\n",
    "---\n",
    "\n",
    "In the above example, you must order in which you add your arguments coincides with the order of the parameters in the function declaration. If you called them out of order like so:\n",
    "```python\n",
    "titanic_name('Doe', 'Captain', 'John')\n",
    "```\n",
    "\n",
    "Then the following would happen:\n",
    "\n",
    "1. `'Doe'` would be assigned to `first_name`\n",
    "2. `'Captain'` would be assigned to `last_name`\n",
    "3. `'John'` would be assigned to `title`.\n",
    "\n",
    "As a result, the function would print `'Captain, John. Doe'`. No bueno."
   ]
  },
  {
   "cell_type": "code",
   "execution_count": 4,
   "metadata": {},
   "outputs": [
    {
     "name": "stdout",
     "output_type": "stream",
     "text": [
      "Capt, John. Doe\n",
      "Capt, John. Doe\n"
     ]
    }
   ],
   "source": [
    "titanic_name('Doe', 'Capt', 'John')"
   ]
  },
  {
   "cell_type": "markdown",
   "metadata": {},
   "source": [
    "You can get around this by referencing the parameters by name:\n",
    "\n",
    "```python\n",
    "titanic_name(last_name='Doe', title='Captain', first_name='John')\n",
    "```\n",
    "\n",
    "Notice the order is the same as our bug: `('Doe', 'Captain', 'John')`. Only now the function will work properly.\n",
    "\n",
    "To summarize, ordering your parameters matters **unless you reference the parameters by name**."
   ]
  },
  {
   "cell_type": "code",
   "execution_count": 5,
   "metadata": {},
   "outputs": [
    {
     "name": "stdout",
     "output_type": "stream",
     "text": [
      "Doe, Capt. John\n",
      "Doe, Capt. John\n"
     ]
    }
   ],
   "source": [
    "titanic_name(last_name='Doe', title='Capt', first_name='John')"
   ]
  },
  {
   "cell_type": "markdown",
   "metadata": {},
   "source": [
    "## Returning values from a function\n",
    "---\n",
    "\n",
    "Let's say we want to use the result from our `titanic_name` function elsewhere in our code. To do this, we'll set a variable like so:\n",
    "```python\n",
    "formatted_name = titanic_name(last_name='Doe', title='Captain', first_name='John')\n",
    "```\n",
    "\n",
    "We'd expect `formatted_name` to be `'Doe, Captain. John'`, but that's not the case. When we output `formatted_name` in a cell, we see that nothing shows up. This is because our function **prints** the name `'Doe, Captain. John'`, but nothing gets returned. \n",
    "\n",
    "**Remember** printing is merely for you the developer to debug your code. In order to use result from `titanic_name` elsewhere in our code, we need to explicitly return it:\n",
    "```python\n",
    "def titanic_name(first_name, last_name, title):\n",
    "    return '{}, {}. {}'.format(last_name, title, first_name)\n",
    "```"
   ]
  },
  {
   "cell_type": "code",
   "execution_count": 6,
   "metadata": {},
   "outputs": [],
   "source": [
    "def titanic_name(first_name, last_name, title):\n",
    "    return '{}, {}. {}'.format(last_name, title, first_name)"
   ]
  },
  {
   "cell_type": "code",
   "execution_count": 7,
   "metadata": {},
   "outputs": [],
   "source": [
    "formatted_name = titanic_name(last_name='Doe', title='Capt', first_name='John')"
   ]
  },
  {
   "cell_type": "code",
   "execution_count": 8,
   "metadata": {},
   "outputs": [
    {
     "data": {
      "text/plain": [
       "'Doe, Capt. John'"
      ]
     },
     "execution_count": 8,
     "metadata": {},
     "output_type": "execute_result"
    }
   ],
   "source": [
    "formatted_name"
   ]
  },
  {
   "cell_type": "markdown",
   "metadata": {},
   "source": [
    "## Lambda functions\n",
    "---\n",
    "\n",
    "[Lambda functions](https://docs.python.org/3/tutorial/controlflow.html#lambda-expressions) allow us to create an anonymous function on the fly. We'll use them extensively when we learn about `pandas` next week.\n",
    "\n",
    "Here's a simple named function:\n",
    "```python\n",
    "def greeting(name):\n",
    "    return 'Howdy, {}'.format(name)\n",
    "```\n",
    "\n",
    "And here is its `lambda` equivalent:\n",
    "```python\n",
    "lambda name: 'Howdy, {}'.format(name)\n",
    "```\n",
    "\n",
    "The primary differences between named and lambda functions are:\n",
    "\n",
    "1. `lambda` functions don't have a name\n",
    "2. `lambda` functions are written on one line\n",
    "3. `lambda` functions don't require a `return`. It's implied that the `lambda` function above will return `\"Howdy, NAME\"`"
   ]
  },
  {
   "cell_type": "code",
   "execution_count": 9,
   "metadata": {},
   "outputs": [
    {
     "data": {
      "text/plain": [
       "'Howdy, Esmerelda'"
      ]
     },
     "execution_count": 9,
     "metadata": {},
     "output_type": "execute_result"
    }
   ],
   "source": [
    "foo = lambda name: 'Howdy, {}'.format(name)\n",
    "foo('Esmerelda')"
   ]
  },
  {
   "cell_type": "markdown",
   "metadata": {},
   "source": [
    "## Challenge: DNA to RNA\n",
    "---\n",
    "\n",
    "If you've taken a Biology class, you know that DNA is essentially a long string comprised of 4 nucleotides:\n",
    "\n",
    "- Cytosine (C)\n",
    "- Thymine (T)\n",
    "- Adenine (A)\n",
    "- Guanine (G)\n",
    "\n",
    "Example:\n",
    "```python\n",
    "dna = 'ACGTAAAACGTGGTGGATTTGACGTGTTTG'\n",
    "```\n",
    "\n",
    "RNA is similar to DNA with one exception: all instances of Thymine (T) are replaced with Uracil (U). Our DNA from above would look like this:\n",
    "```python\n",
    "rna = 'ACGUAAAACGUGGUGGAUUUGACGUGUUUG'\n",
    "```\n",
    "\n",
    "In the cell below, create a function called `dna_to_rna` that accepts a string of DNA and converts it to RNA."
   ]
  },
  {
   "cell_type": "code",
   "execution_count": 10,
   "metadata": {},
   "outputs": [],
   "source": [
    "def dna_to_rna(dna):\n",
    "    return dna.upper().replace('T', 'U')"
   ]
  },
  {
   "cell_type": "code",
   "execution_count": 11,
   "metadata": {},
   "outputs": [
    {
     "data": {
      "text/plain": [
       "'ACGUAAAACGUGGUGGAUUUGACGUGUUUG'"
      ]
     },
     "execution_count": 11,
     "metadata": {},
     "output_type": "execute_result"
    }
   ],
   "source": [
    "dna_to_rna('ACGTAAAACGTGGTGGATTTGACGTGTTTG')"
   ]
  },
  {
   "cell_type": "markdown",
   "metadata": {},
   "source": [
    "## Challenge: Hamming Distance\n",
    "---\n",
    "\n",
    "The DNA strand `'AAAA'` is similar to the strand `'AAAT'` with one exception: the 4th nucleotide is different. In other words, the two strands have a **hamming distance** of 1, where hamming distance is the number of nucleotides that differ between two strands.\n",
    "\n",
    "In the cell below, create a function called `hamming_distance` that accepts two parameters (`dna1` and `dna2`) and calculates the hamming distance between the two strands. \n",
    "\n",
    "**NOTE:** You can assume the two strands will have the same length."
   ]
  },
  {
   "cell_type": "code",
   "execution_count": 12,
   "metadata": {},
   "outputs": [],
   "source": [
    "def hamming_distance(dna1, dna2):\n",
    "    distance = 0\n",
    "    for i in range(len(dna1)):\n",
    "        if dna1[i] != dna2[i]:\n",
    "            distance += 1\n",
    "    return distance"
   ]
  },
  {
   "cell_type": "code",
   "execution_count": 13,
   "metadata": {},
   "outputs": [
    {
     "data": {
      "text/plain": [
       "1"
      ]
     },
     "execution_count": 13,
     "metadata": {},
     "output_type": "execute_result"
    }
   ],
   "source": [
    "hamming_distance('AAAA', 'AAAT')"
   ]
  },
  {
   "cell_type": "markdown",
   "metadata": {},
   "source": [
    "## Challenge: Reverse Compliment\n",
    "---\n",
    "\n",
    "DNA is actually double stranded. The two strands have the nicknames Watson and Crick, named after the two scientists that discovered the structure of DNA. In a double helix, the two strands are facing **opposite directions**. Moreover, the strands are complimentary. \n",
    "\n",
    "Moreover, each nucleotide in the Watson strand is lined up with its compliment on the Crick strand. When combined, each nucleotide on one strand binds with its compliment on the other sort of like a zipper. \n",
    "\n",
    "- Each Adenine on one strand has a Thymine on the other (and vice versa)\n",
    "- Each Cytosine on one strand is facing a Guanine on the other (and vice versa)\n",
    "\n",
    "In the cell below, create a function called `reverse_compliment` that accepts a string of DNA and returns its complimentary strand **in reverse**.\n",
    "\n",
    "For example: `'AAACCC'` and `'GGGTTT'` are reverse compliments. `'A'` lines up with `'T'`, `'C'` lines up with `'G'` **and the compliment is reversed**"
   ]
  },
  {
   "cell_type": "code",
   "execution_count": 14,
   "metadata": {},
   "outputs": [],
   "source": [
    "def reverse_compliment(dna):\n",
    "    reverse = dna[::-1]\n",
    "    rc = ''\n",
    "    for nucleotide in reverse:\n",
    "        if nucleotide == 'A':\n",
    "            rc += 'T'\n",
    "        elif nucleotide == 'T':\n",
    "            rc += 'A'\n",
    "        elif nucleotide == 'C':\n",
    "            rc += 'G'\n",
    "        elif nucleotide == 'G':\n",
    "            rc += 'C'\n",
    "    return rc"
   ]
  },
  {
   "cell_type": "code",
   "execution_count": 15,
   "metadata": {},
   "outputs": [
    {
     "data": {
      "text/plain": [
       "'GGGTTT'"
      ]
     },
     "execution_count": 15,
     "metadata": {},
     "output_type": "execute_result"
    }
   ],
   "source": [
    "reverse_compliment('AAACCC')"
   ]
  },
  {
   "cell_type": "code",
   "execution_count": 16,
   "metadata": {},
   "outputs": [
    {
     "data": {
      "text/plain": [
       "'CCCAAA'"
      ]
     },
     "execution_count": 16,
     "metadata": {},
     "output_type": "execute_result"
    }
   ],
   "source": [
    "reverse_compliment('TTTGGG')"
   ]
  },
  {
   "cell_type": "markdown",
   "metadata": {},
   "source": [
    "## Challenge: Find the divisors\n",
    "---\n",
    "\n",
    "From [codewars](https://www.codewars.com/kata/find-the-divisors/train/python). Create a function called `divisors` that accepts a number and returns a list of all the divisors for that number. \n",
    "\n",
    "For example: `divisors(12)` will return the list `[2, 3, 4, 6]`. \n",
    "\n",
    "**Note**: 1 doesn't count as a divisor.\n",
    "**Note**: If the number doesn't have any divisors, it is prime (e.g. 13, 23, etc). In cases where the number is prime, simply return the string `'13 is prime'`."
   ]
  },
  {
   "cell_type": "code",
   "execution_count": 17,
   "metadata": {},
   "outputs": [],
   "source": [
    "def divisors(n):\n",
    "    divs = []\n",
    "    for i in range(2, int(n / 2) + 1):\n",
    "        if n % i == 0:\n",
    "            divs.append(i)\n",
    "    \n",
    "    if len(divs) > 0:\n",
    "        return divs\n",
    "    else:\n",
    "        return '{} is prime'.format(n)"
   ]
  },
  {
   "cell_type": "code",
   "execution_count": 18,
   "metadata": {},
   "outputs": [
    {
     "data": {
      "text/plain": [
       "[2, 3, 4, 6]"
      ]
     },
     "execution_count": 18,
     "metadata": {},
     "output_type": "execute_result"
    }
   ],
   "source": [
    "divisors(12)"
   ]
  },
  {
   "cell_type": "code",
   "execution_count": 19,
   "metadata": {},
   "outputs": [
    {
     "data": {
      "text/plain": [
       "'13 is prime'"
      ]
     },
     "execution_count": 19,
     "metadata": {},
     "output_type": "execute_result"
    }
   ],
   "source": [
    "divisors(13)"
   ]
  },
  {
   "cell_type": "code",
   "execution_count": null,
   "metadata": {},
   "outputs": [],
   "source": []
  }
 ],
 "metadata": {
  "kernelspec": {
   "display_name": "Python 3",
   "language": "python",
   "name": "python3"
  },
  "language_info": {
   "codemirror_mode": {
    "name": "ipython",
    "version": 3
   },
   "file_extension": ".py",
   "mimetype": "text/x-python",
   "name": "python",
   "nbconvert_exporter": "python",
   "pygments_lexer": "ipython3",
   "version": "3.7.3"
  }
 },
 "nbformat": 4,
 "nbformat_minor": 2
}
