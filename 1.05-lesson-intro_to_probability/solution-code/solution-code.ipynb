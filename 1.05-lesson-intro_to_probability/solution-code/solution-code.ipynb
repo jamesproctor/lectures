{
 "cells": [
  {
   "cell_type": "markdown",
   "metadata": {},
   "source": [
    "## Probability Problems\n",
    "\n",
    "We often interpret probability like frequency.\n",
    "- If I run an experiment over and over again and one event (call it $A$) occurs frequently, we might say that $P(A)$ is quite high.\n",
    "- If I run an experiment over and over again and one outcome $A$ occurs infrequently, we might say that the probability of $A$ is low.\n",
    "\n",
    "We can make this idea a bit more formal by assuming we can repeat an experiment a theoretically infinite number of times. Written out mathematically, this is:\n",
    "\n",
    "$$\n",
    "P(A) = \\lim_{n \\rightarrow \\infty} \\frac{\\text{number of times A occurs}}{n}\n",
    "$$\n",
    "\n",
    "If you're not familiar with limits, that's okay! \n",
    "- The idea is that while we can't actually run the experiment an infinite number of times, if we ran the experiment 1,000 times, then 1,000,000 times, then 1,000,000,000 times, can we get an understanding of what $P(A)$ is?\n",
    "- Limits are fundamentally important to *how* lots of machine learning and statistics work, but we're almost always able to do our work without getting into the weeds.\n",
    "\n",
    "In many cases, we can find probabilities exactly by hand... but that quickly gets complicated. Instead, let's *estimate* $P(A)$ by leveraging Python to run some large number of experiments and seeing how frequently $A$ occurs:\n",
    "\n",
    "$$\n",
    "P(A) \\approx \\frac{\\text{number of times A occurs}}{n}\n",
    "$$\n",
    "\n",
    "If we \"run our experiment\" for some large number of trials $n$, then our estimated probability should be pretty close to the true probability!"
   ]
  },
  {
   "cell_type": "code",
   "execution_count": 1,
   "metadata": {},
   "outputs": [],
   "source": [
    "import numpy as np"
   ]
  },
  {
   "cell_type": "markdown",
   "metadata": {},
   "source": [
    "### Problem 1: Suppose I roll one die. What is the probability of rolling an odd number?"
   ]
  },
  {
   "cell_type": "markdown",
   "metadata": {},
   "source": [
    "In this case, I want to estimate $P(A)$, where $A$ is rolling an odd number."
   ]
  },
  {
   "cell_type": "code",
   "execution_count": 2,
   "metadata": {},
   "outputs": [],
   "source": [
    "# Create a list named \"dice\" with the values 1 through 6.\n",
    "dice = [1, 2, 3, 4, 5, 6]"
   ]
  },
  {
   "cell_type": "code",
   "execution_count": 3,
   "metadata": {},
   "outputs": [
    {
     "data": {
      "text/plain": [
       "2"
      ]
     },
     "execution_count": 3,
     "metadata": {},
     "output_type": "execute_result"
    }
   ],
   "source": [
    "# Randomly generate one integer between 1 and 6.\n",
    "np.random.choice(dice)"
   ]
  },
  {
   "cell_type": "code",
   "execution_count": 4,
   "metadata": {},
   "outputs": [],
   "source": [
    "# Set a seed so that we can reproduce our results.\n",
    "np.random.seed(42)"
   ]
  },
  {
   "cell_type": "code",
   "execution_count": 5,
   "metadata": {},
   "outputs": [
    {
     "data": {
      "text/plain": [
       "4"
      ]
     },
     "execution_count": 5,
     "metadata": {},
     "output_type": "execute_result"
    }
   ],
   "source": [
    "# Randomly generate one integer between 1 and 6.\n",
    "np.random.choice(dice)"
   ]
  },
  {
   "cell_type": "code",
   "execution_count": 6,
   "metadata": {},
   "outputs": [
    {
     "name": "stdout",
     "output_type": "stream",
     "text": [
      "0.498\n"
     ]
    }
   ],
   "source": [
    "# Create a variable called count that starts at 0.\n",
    "count = 0\n",
    "\n",
    "# I want to run my experiment 10,000 times.\n",
    "for i in range(10_000):\n",
    "    \n",
    "    # I want to check to see if my dice roll is odd.\n",
    "    if np.random.choice(dice) % 2 != 0:\n",
    "        \n",
    "        # If that is true, then add 1 to count.\n",
    "        count += 1\n",
    "\n",
    "# Print the number of times A occurs, divided by n.\n",
    "print(count / 10_000)"
   ]
  },
  {
   "cell_type": "code",
   "execution_count": 7,
   "metadata": {},
   "outputs": [],
   "source": [
    "# Put it all in one function.\n",
    "def odd_roll(n):                            # define a function with one argument, n \n",
    "    count = 0                               # where we'll store our count\n",
    "    for i in range(n):                      # let's run our experiment n times\n",
    "        if np.random.choice(dice) % 2 != 0: # if our dice value is not divisible by 2 (is odd)\n",
    "            count += 1                      # then add 1 to our count\n",
    "    return count / n                        # return the number of times A occurs divided by n"
   ]
  },
  {
   "cell_type": "code",
   "execution_count": 8,
   "metadata": {},
   "outputs": [
    {
     "data": {
      "text/plain": [
       "0.4981"
      ]
     },
     "execution_count": 8,
     "metadata": {},
     "output_type": "execute_result"
    }
   ],
   "source": [
    "# Run our experiment 10,000 times.\n",
    "odd_roll(10_000) "
   ]
  },
  {
   "cell_type": "code",
   "execution_count": 9,
   "metadata": {},
   "outputs": [
    {
     "data": {
      "text/plain": [
       "0.49956"
      ]
     },
     "execution_count": 9,
     "metadata": {},
     "output_type": "execute_result"
    }
   ],
   "source": [
    "# Run our experiment 100,000 times.\n",
    "odd_roll(100_000)"
   ]
  },
  {
   "cell_type": "code",
   "execution_count": 10,
   "metadata": {},
   "outputs": [
    {
     "data": {
      "text/plain": [
       "0.50076"
      ]
     },
     "execution_count": 10,
     "metadata": {},
     "output_type": "execute_result"
    }
   ],
   "source": [
    "# Run our experiment 1,000,000 times.\n",
    "odd_roll(1_000_000)"
   ]
  },
  {
   "cell_type": "markdown",
   "metadata": {},
   "source": [
    "### Problem 2: Suppose I roll two dice. What is the probability that their sum is an odd number?"
   ]
  },
  {
   "cell_type": "code",
   "execution_count": 11,
   "metadata": {},
   "outputs": [],
   "source": [
    "def odd_two_rolls(n):\n",
    "    \n",
    "    # Create a variable called count that starts at 0.\n",
    "    count = 0\n",
    "\n",
    "    # I want to run my experiment n times.\n",
    "    for i in range(n):\n",
    "\n",
    "        # I want to check to see if the sum of my dice rolls is odd.\n",
    "        if (np.random.choice(dice) + np.random.choice(dice)) % 2 != 0:\n",
    "\n",
    "            # If that is true, then add 1 to count.\n",
    "            count += 1\n",
    "\n",
    "    # Print the number of times A occurs, divided by n.\n",
    "    return (count / n)"
   ]
  },
  {
   "cell_type": "code",
   "execution_count": 12,
   "metadata": {},
   "outputs": [
    {
     "data": {
      "text/plain": [
       "0.4894"
      ]
     },
     "execution_count": 12,
     "metadata": {},
     "output_type": "execute_result"
    }
   ],
   "source": [
    "odd_two_rolls(10_000) # run our experiment 10,000 times"
   ]
  },
  {
   "cell_type": "markdown",
   "metadata": {},
   "source": [
    "### Problem 3: There are 12 red and 12 black balls. If you draw one ball, then a second ball without replacing the first, what is the probability that they are the same color?"
   ]
  },
  {
   "cell_type": "code",
   "execution_count": 13,
   "metadata": {},
   "outputs": [],
   "source": [
    "# Set up bucket of 12 red balls and 12 black balls.\n",
    "bag_of_balls = ['red', 'red', 'red', 'red', 'red', 'red', 'red', 'red', 'red', 'red', 'red', 'red',\n",
    "                'black', 'black', 'black', 'black', 'black', 'black', 'black', 'black', 'black', 'black', 'black', 'black']"
   ]
  },
  {
   "cell_type": "code",
   "execution_count": 14,
   "metadata": {},
   "outputs": [],
   "source": [
    "def same_color(n):\n",
    "    \n",
    "    # Set up counter to see how many successes we get.\n",
    "    count = 0\n",
    "    \n",
    "    # Run experiment n times.\n",
    "    for i in range(n):\n",
    "        \n",
    "        # Pull two balls from bucket *without* replacement.\n",
    "        draws = np.random.choice(bag_of_balls, size = 2, replace = False)\n",
    "        \n",
    "        # Check to see if the two chosen balls are the same.\n",
    "        if draws[0] == draws[1]:\n",
    "            count += 1\n",
    "            \n",
    "    # Evaluate probability.\n",
    "    return count / n"
   ]
  },
  {
   "cell_type": "code",
   "execution_count": 15,
   "metadata": {},
   "outputs": [
    {
     "data": {
      "text/plain": [
       "0.4795"
      ]
     },
     "execution_count": 15,
     "metadata": {},
     "output_type": "execute_result"
    }
   ],
   "source": [
    "same_color(10_000)"
   ]
  },
  {
   "cell_type": "markdown",
   "metadata": {},
   "source": [
    "### Problem 4: Suppose you roll three dice. What is the probability that the three dice are rolled in increasing order?"
   ]
  },
  {
   "cell_type": "code",
   "execution_count": 16,
   "metadata": {},
   "outputs": [
    {
     "data": {
      "text/plain": [
       "[1, 2, 3, 4, 5, 6]"
      ]
     },
     "execution_count": 16,
     "metadata": {},
     "output_type": "execute_result"
    }
   ],
   "source": [
    "# What is dice again?\n",
    "dice"
   ]
  },
  {
   "cell_type": "code",
   "execution_count": 17,
   "metadata": {},
   "outputs": [],
   "source": [
    "def three_dice(n):\n",
    "    \n",
    "    # Set up counter to see how many successes we get.\n",
    "    count = 0\n",
    "    \n",
    "    # Run experiment n times.\n",
    "    for i in range(n):\n",
    "        \n",
    "        # Roll first die.\n",
    "        roll_1 = np.random.choice(dice)\n",
    "        \n",
    "        # Roll second die.\n",
    "        roll_2 = np.random.choice(dice)\n",
    "        \n",
    "        # Roll third die.\n",
    "        roll_3 = np.random.choice(dice)\n",
    "        \n",
    "        # Check to see if the rolls are in increasing order.\n",
    "        if roll_1 < roll_2 and roll_2 < roll_3:\n",
    "            count += 1\n",
    "    \n",
    "    # Return probability.\n",
    "    return count / n"
   ]
  },
  {
   "cell_type": "markdown",
   "metadata": {},
   "source": [
    "<details><summary>BONUS (advanced): Details of working this problem out by hand.</summary>\n",
    "\n",
    "- Step 1. Write $P(X_1 < X_2 < X_3)$\n",
    "\n",
    "\n",
    "- Step 2. Recognize $P(X_1 < X_2 < X_3) = P\\left((X_1 < X_2) \\cap (X_2 < X_3)\\right)$\n",
    "\n",
    "\n",
    "- Step 3. Use the definition of joint probability to say $P\\left((X_1 < X_2) \\cap (X_2 < X_3)\\right) = P(X_2 < X_3 | X_1 < X_2) * P(X_1 < X_2)$\n",
    "\n",
    "\n",
    "- Step 4. Calculate $P(X1 < X2)$, which is $12/36 = 1/3$, so $P(X_2 < X_3 | X_1 < X_2) * P(X_1 < X_2) = P(X_2 < X_3 | X_1 < X_2) * 1/3$\n",
    "\n",
    "\n",
    "- Step 5. Figure out what $P(X_2 < X_3 | X_1 < X_2)$ is. (This is way trickier. Because we know $X_2$ is greater than $X_1$, $X_2$ has a $5/12$ chance of being 6, a $4/12$ chance of being 5, a $3/12$ chance of being 4, a $2/12$ chance of being 3, and a $1/12$ chance of being 2.) Therefore, the probability that $X_3$ is greater than $X_2$ given that we know $X_2$ is greater than $X_1$ is $(1/6) * (4/12) + (2/6) * (3/12) + (3/6) * (2/12) + (4/6) * (1/12)$\n",
    "\n",
    "\n",
    "- Step 6. Calculate $P(X_2 < X_3 | X_1 < X_2) * P(X_1 < X_2) = \\left((1/6) * (4/12) + (2/6) * (3/12) + (3/6) * (2/12) + (4/6) * (1/12)\\right) * (1/3) = 5/54$\n",
    "</details>"
   ]
  },
  {
   "cell_type": "markdown",
   "metadata": {},
   "source": [
    "---\n",
    "\n",
    "## Extra Practice Problems (not required!)"
   ]
  },
  {
   "cell_type": "markdown",
   "metadata": {},
   "source": [
    "### Problem 5: Suppose I flip three coins. What is the probability that I flip all heads or all tails?"
   ]
  },
  {
   "cell_type": "code",
   "execution_count": 18,
   "metadata": {},
   "outputs": [
    {
     "data": {
      "text/plain": [
       "0"
      ]
     },
     "execution_count": 18,
     "metadata": {},
     "output_type": "execute_result"
    }
   ],
   "source": [
    "np.random.randint(0,2) # randomly generate one integer between 0 and 1"
   ]
  },
  {
   "cell_type": "code",
   "execution_count": 19,
   "metadata": {},
   "outputs": [],
   "source": [
    "def flip_same_three(n):         # define a function with one argument, n \n",
    "    successes = 0               # instantiate number of \"successes\" (all H or all T) at 0\n",
    "    for i in range(n):          # run our experiment n times\n",
    "        heads_tails_count = np.random.randint(0,2) + np.random.randint(0,2) # flip three coins\n",
    "        if heads_tails_count == 0 or heads_tails_count == 3: # if we flipped all heads or all tails\n",
    "            successes += 1      # then add one to successes\n",
    "    return successes / n        # return the number of times A occurs divided by n"
   ]
  },
  {
   "cell_type": "code",
   "execution_count": 20,
   "metadata": {},
   "outputs": [
    {
     "data": {
      "text/plain": [
       "0.236"
      ]
     },
     "execution_count": 20,
     "metadata": {},
     "output_type": "execute_result"
    }
   ],
   "source": [
    "flip_same_three(1_000) # run our experiment 1,000 times"
   ]
  },
  {
   "cell_type": "markdown",
   "metadata": {},
   "source": [
    "### Problem 6: Suppose I flip one coin. If I flip heads, I roll one die. If I flip tails, I roll two dice and sum their values. What is the probability that my roll values sum to greater than 8?"
   ]
  },
  {
   "cell_type": "code",
   "execution_count": 21,
   "metadata": {},
   "outputs": [],
   "source": [
    "def greater_than_eight(n):                        # define a function with one argument, n\n",
    "    above_eight = 0                              # instantiate number of successes at 0\n",
    "    for i in range(n):                           # run our experiment n times\n",
    "        coin_flip = np.random.randint(0,2)       # flip a coin\n",
    "        if coin_flip == 1:                       # if our coin flip is heads,\n",
    "            dice = np.random.randint(1,7)        # then roll one die\n",
    "        else:                                    # otherwise (if our coin flip is tails),\n",
    "            dice = np.random.randint(1,7) + np.random.randint(1,7) # then roll two die and sum them\n",
    "        if dice > 8:                             # if our value is greater than 8 (event A occurs)\n",
    "            above_eight += 1                     # add one to our number of successes\n",
    "    return above_eight / n                       # divide number of times A occurs by n"
   ]
  },
  {
   "cell_type": "code",
   "execution_count": 22,
   "metadata": {},
   "outputs": [
    {
     "data": {
      "text/plain": [
       "0.143"
      ]
     },
     "execution_count": 22,
     "metadata": {},
     "output_type": "execute_result"
    }
   ],
   "source": [
    "greater_than_eight(10_000) # run our experiment 10,000 times"
   ]
  },
  {
   "cell_type": "markdown",
   "metadata": {},
   "source": [
    "Note: If you get a bunch of trailing zeroes in the above answer, this is an issue of [floating point arithmetic](https://en.wikipedia.org/wiki/Floating-point_arithmetic)."
   ]
  },
  {
   "cell_type": "markdown",
   "metadata": {},
   "source": [
    "### Problem 7: I flip my coin until I flip heads. I count up the number of coins I flipped and roll that many dice. What is the probability that the average roll will be between 3 and 4 (inclusive)?\n",
    "- Example 1: If I flip heads on my first coin flip, I roll one die and stop.\n",
    "- Example 2: If I flip tails on my first coin flip and heads on my second, I will roll two dice and average their values.\n",
    "- Example 3: If I flip tails on my first two coin flips and heads on my third, I will roll three dice and average their values."
   ]
  },
  {
   "cell_type": "code",
   "execution_count": 23,
   "metadata": {},
   "outputs": [],
   "source": [
    "def between_three_and_four(n):              # define our function with one argument, n\n",
    "    successes = 0                           # instantiate number of successes to be 0\n",
    "    for i in range(n):                      # run our experiment n times\n",
    "        rolls = 1                           # I know that I'll roll at least once!\n",
    "        \n",
    "        while np.random.randint(0,2) == 0:     # keep flipping coins until I flip heads\n",
    "            rolls += 1                      # every time I flip tails, add 1 to rolls\n",
    "            \n",
    "        values = 0                          # instantiate values\n",
    "        for j in range(rolls):              # I need to roll my dice \"rolls\" times\n",
    "            values += np.random.randint(1,7)   # roll j dice and add result to values\n",
    "        if (values / rolls) >= 3 and (values / rolls) <= 4: # if average is between 3 and 4\n",
    "            successes += 1                  # add one to successes\n",
    "    return successes / n                    # divide number of successes by n"
   ]
  },
  {
   "cell_type": "code",
   "execution_count": 24,
   "metadata": {
    "scrolled": true
   },
   "outputs": [
    {
     "data": {
      "text/plain": [
       "0.387"
      ]
     },
     "execution_count": 24,
     "metadata": {},
     "output_type": "execute_result"
    }
   ],
   "source": [
    "between_three_and_four(1_000) # run experiment 1,000 times"
   ]
  },
  {
   "cell_type": "markdown",
   "metadata": {},
   "source": [
    "### Problem 8: Repeat problem 7, but find the probability that the average roll will be between 3 and 4, *exclusive*. (That is, we are not including values of 3 or 4 as \"successes,\" but only the numbers in between them.) \n",
    "- Before running this in code, do you think this will have a large impact on the outcome? Why or why not?"
   ]
  },
  {
   "cell_type": "markdown",
   "metadata": {},
   "source": [
    "**Answer**: I **do** think this will have a large impact on the outcome. If we flip only one coin, then we roll only one die. There is a one in three chance that we get a 3 or 4 in one roll of the die. By excluding the values of 3 and 4, I think we'll see $P(A)$ get much smaller."
   ]
  },
  {
   "cell_type": "code",
   "execution_count": 25,
   "metadata": {},
   "outputs": [],
   "source": [
    "def between_three_and_four_exclusive(n):    # define our function with one argument, n\n",
    "    successes = 0                           # instantiate number of successes to be 0\n",
    "    for i in range(n):                      # run our experiment n times\n",
    "        rolls = 1                           # I know that I'll roll at least once!\n",
    "        \n",
    "        while np.random.randint(0,2) == 0:  # keep flipping coins until I flip heads\n",
    "            rolls += 1                      # every time I flip tails, add 1 to rolls\n",
    "            \n",
    "        values = 0                          # instantiate values\n",
    "        for j in range(rolls):              # I need to roll my dice \"rolls\" times\n",
    "            values += np.random.randint(1,7)   # roll j dice and add result to values\n",
    "        if (values / rolls) > 3 and (values / rolls) < 4: # if average is between 3 and 4 EXCLUSIVE\n",
    "            successes += 1                  # add one to successes\n",
    "    return successes / n                    # divide number of successes by n"
   ]
  },
  {
   "cell_type": "code",
   "execution_count": 26,
   "metadata": {},
   "outputs": [
    {
     "data": {
      "text/plain": [
       "0.097"
      ]
     },
     "execution_count": 26,
     "metadata": {},
     "output_type": "execute_result"
    }
   ],
   "source": [
    "between_three_and_four_exclusive(1_000) # run experiment 1,000 times"
   ]
  },
  {
   "cell_type": "markdown",
   "metadata": {},
   "source": [
    "### Problem 9: Repeat problem 6, but make the probability of flipping heads 20%.\n",
    "- Hint: You could use `np.random.randint(1,11)` and using values of 1 and 2 as \"heads\" and values of 3 through 10 as \"tails.\" Alternatively, you could use [`np.random.choice`](https://docs.scipy.org/doc/numpy-1.15.0/reference/generated/numpy.random.choice.html)."
   ]
  },
  {
   "cell_type": "markdown",
   "metadata": {},
   "source": [
    "Suppose I flip one coin. If I flip heads, I roll one die. If I flip tails, I roll two dice and sum their values. What is the probability that my roll values sum to greater than 8? **Note** that I'm using an unfair coin with probability of heads equal to 20%. I will use `np.random.randint(1,11)` to simulate an unfair coin. Values of 1 and 2 will correspond to \"heads\" and values of 3 or greater will correspond to \"tails.\""
   ]
  },
  {
   "cell_type": "code",
   "execution_count": 27,
   "metadata": {},
   "outputs": [],
   "source": [
    "def greater_than_eight_unfair(n):                # define a function with one argument, n\n",
    "    above_eight = 0                              # instantiate number of successes at 0\n",
    "    for i in range(n):                           # run our experiment n times\n",
    "        coin_flip = np.random.randint(1,11)      # flip a coin\n",
    "        if coin_flip <= 2:                       # if our coin flip is heads,\n",
    "            dice = np.random.randint(1,7)        # then roll one die\n",
    "        else:                                    # otherwise (if our coin flip is tails),\n",
    "            dice = np.random.randint(1,7) + np.random.randint(1,7) # then roll two die and sum them\n",
    "        if dice > 8:                             # if our value is greater than 8 (event A occurs)\n",
    "            above_eight += 1                     # add one to our number of successes\n",
    "    return above_eight / n                       # divide number of times A occurs by n"
   ]
  },
  {
   "cell_type": "code",
   "execution_count": 28,
   "metadata": {},
   "outputs": [
    {
     "data": {
      "text/plain": [
       "0.2191"
      ]
     },
     "execution_count": 28,
     "metadata": {},
     "output_type": "execute_result"
    }
   ],
   "source": [
    "greater_than_eight_unfair(10_000) # run 10,000 times"
   ]
  },
  {
   "cell_type": "markdown",
   "metadata": {},
   "source": [
    "### Problem 10: Repeat problem 9, but build your function out to accept *any* valid probability of flipping heads. (i.e. a user can input 1%, 10%, 35%, 99%, and so on)."
   ]
  },
  {
   "cell_type": "markdown",
   "metadata": {},
   "source": [
    "It will be pretty complicated for me to use `np.random.randint()` for lots of different probabilities of flipping heads. Instead, I will use `np.random.choice`. You should check out the documentation for it [here](https://docs.scipy.org/doc/numpy-1.15.0/reference/generated/numpy.random.choice.html)."
   ]
  },
  {
   "cell_type": "code",
   "execution_count": 29,
   "metadata": {},
   "outputs": [],
   "source": [
    "def greater_than_eight_user_defined(n, p_heads):       # define a function\n",
    "    # Note that this function has two arguments: n and p_heads.\n",
    "    # n = number of experiments to simulate.\n",
    "    # p_heads = probability of flipping heads.\n",
    "    \n",
    "    # We want p_heads to be between 0 and 1.\n",
    "    if p_heads < 0 or p_heads > 1:\n",
    "        return \"Error. p_heads should be between 0 and 1.\"\n",
    "    \n",
    "    above_eight = 0                              # instantiate number of successes at 0\n",
    "    \n",
    "    for i in range(n):                           # run our experiment n times\n",
    "        coin_flip = np.random.choice(['heads','tails'],\n",
    "                                     p = [p_heads, 1 - p_heads])\n",
    "        \n",
    "        # The above line of code allows us to select heads or tails.\n",
    "        # It will select heads with probability p_heads.\n",
    "        # It will select tails with probability 1 - p_heads.\n",
    "        \n",
    "        if coin_flip == 'heads':                 # if our coin flip is heads,\n",
    "            dice = np.random.randint(1,7)        # then roll one die\n",
    "        else:                                    # otherwise (if our coin flip is tails),\n",
    "            dice = np.random.randint(1,7) + np.random.randint(1,7) # then roll two die and sum them\n",
    "        if dice > 8:                             # if our value is greater than 8 (event A occurs)\n",
    "            above_eight += 1                     # add one to our number of successes\n",
    "    return above_eight / n                       # divide number of times A occurs by n"
   ]
  },
  {
   "cell_type": "code",
   "execution_count": 30,
   "metadata": {},
   "outputs": [
    {
     "data": {
      "text/plain": [
       "0.2729"
      ]
     },
     "execution_count": 30,
     "metadata": {},
     "output_type": "execute_result"
    }
   ],
   "source": [
    "greater_than_eight_user_defined(10_000, 0)"
   ]
  },
  {
   "cell_type": "code",
   "execution_count": 31,
   "metadata": {},
   "outputs": [
    {
     "data": {
      "text/plain": [
       "0.2714"
      ]
     },
     "execution_count": 31,
     "metadata": {},
     "output_type": "execute_result"
    }
   ],
   "source": [
    "greater_than_eight_user_defined(10_000, 0.01)"
   ]
  },
  {
   "cell_type": "code",
   "execution_count": 32,
   "metadata": {},
   "outputs": [
    {
     "data": {
      "text/plain": [
       "0.2479"
      ]
     },
     "execution_count": 32,
     "metadata": {},
     "output_type": "execute_result"
    }
   ],
   "source": [
    "greater_than_eight_user_defined(10_000, 0.1)"
   ]
  },
  {
   "cell_type": "code",
   "execution_count": 33,
   "metadata": {},
   "outputs": [
    {
     "data": {
      "text/plain": [
       "0.1407"
      ]
     },
     "execution_count": 33,
     "metadata": {},
     "output_type": "execute_result"
    }
   ],
   "source": [
    "greater_than_eight_user_defined(10_000, 0.5)"
   ]
  },
  {
   "cell_type": "code",
   "execution_count": 34,
   "metadata": {},
   "outputs": [
    {
     "data": {
      "text/plain": [
       "0.0294"
      ]
     },
     "execution_count": 34,
     "metadata": {},
     "output_type": "execute_result"
    }
   ],
   "source": [
    "greater_than_eight_user_defined(10_000, 0.9)"
   ]
  },
  {
   "cell_type": "code",
   "execution_count": 35,
   "metadata": {},
   "outputs": [
    {
     "data": {
      "text/plain": [
       "0.0"
      ]
     },
     "execution_count": 35,
     "metadata": {},
     "output_type": "execute_result"
    }
   ],
   "source": [
    "greater_than_eight_user_defined(10_000, 1)"
   ]
  },
  {
   "cell_type": "markdown",
   "metadata": {},
   "source": [
    "**Summary**: It looks as though, as the probability of heads increases, the probability of getting a sum that is greater than eight decreases."
   ]
  },
  {
   "cell_type": "markdown",
   "metadata": {},
   "source": [
    "### Problem 11: Two players are playing a game. Player A goes first and flips a coin. If the coin is heads, player A wins. If the coin is tails, player B then flips a coin. If the coin is heads, player B wins. Otherwise, the coin goes back to player A. They continue flipping until one person has flipped heads. If the coin is fair, what is the probability of player A winning?\n",
    "\n",
    "(This problem is taken from [_Statistical Inference_ by Casella and Berger](https://fsalamri.files.wordpress.com/2015/02/casella_berger_statistical_inference1.pdf).)"
   ]
  },
  {
   "cell_type": "markdown",
   "metadata": {},
   "source": [
    "- Hint: You'll get stuck in an infinite loop if your probability of flipping heads is 0%!"
   ]
  },
  {
   "cell_type": "code",
   "execution_count": 36,
   "metadata": {},
   "outputs": [],
   "source": [
    "# Rather than save player as 'A' and 'B', I'm going to \n",
    "# save player as +1 and -1. +1 corresponds to player A\n",
    "# and -1 corresponds to player B.\n",
    "\n",
    "# It is a bit more complicated to write things out as\n",
    "# A or B, because you need to reset player every time\n",
    "# the coin_flip returns tails. For example, I would\n",
    "# write something like:\n",
    "# if coin_flip == 'tails':\n",
    "#     if player == 'A':\n",
    "#         player = 'B'\n",
    "#     else:\n",
    "#         player = 'A'\n",
    "\n",
    "# By saving player as 1 and -1, every time coin_flip\n",
    "# returns tails, I can just multiply coin_flip by -1.\n",
    "# if coin_flip == 'tails':\n",
    "#     player *= -1\n",
    "\n",
    "# It's much simpler to use -1 instead of 'A' and 'B'!\n",
    "# This will always ensure my player variable is correct.\n",
    "\n",
    "\n",
    "def coin_game(n):\n",
    "    a_count = 0        # instantiate count of A wins\n",
    "    for i in range(n): # simulate n games\n",
    "        player = 1     # start with player A\n",
    "        while True:    # will continue until we break\n",
    "            # simulate one coin flip\n",
    "            coin_flip = np.random.choice(['heads','tails'],\n",
    "                                         p = [0.5, 0.5])\n",
    "            \n",
    "            if coin_flip == 'heads': # if coin_flip is heads\n",
    "                if player == 1:     # and if it's player A\n",
    "                    a_count += 1    # add one to A wins count\n",
    "                \n",
    "                # since coin_flip was heads, this game is over.\n",
    "                # break out of the while loop and start a new game!\n",
    "                break               \n",
    "                \n",
    "            else:                   # if coin_flip was tails, then:\n",
    "                player *= -1        # same as player = player * -1\n",
    "                                    # then we return to the top of\n",
    "                                    # the while loop!\n",
    "    return (a_count / n)"
   ]
  },
  {
   "cell_type": "code",
   "execution_count": 37,
   "metadata": {},
   "outputs": [
    {
     "data": {
      "text/plain": [
       "0.6643"
      ]
     },
     "execution_count": 37,
     "metadata": {},
     "output_type": "execute_result"
    }
   ],
   "source": [
    "coin_game(10_000)"
   ]
  },
  {
   "cell_type": "markdown",
   "metadata": {},
   "source": [
    "### Problem 12: Repeat problem 11, but adapt your function to accept another argument, $p$, where $p$ is the probability of flipping heads.\n",
    "\n",
    "(This problem is adapted from [_Statistical Inference_ by Casella and Berger](https://fsalamri.files.wordpress.com/2015/02/casella_berger_statistical_inference1.pdf).)"
   ]
  },
  {
   "cell_type": "code",
   "execution_count": 38,
   "metadata": {},
   "outputs": [],
   "source": [
    "def coin_game_unfair(n, p_heads):\n",
    "    a_count = 0        # instantiate count of A wins\n",
    "    for i in range(n): # simulate n games\n",
    "        player = 1     # start with player A\n",
    "        while True:    # will continue until we break\n",
    "            # simulate one coin flip\n",
    "            coin_flip = np.random.choice(['heads','tails'],\n",
    "                                         p = [p_heads, 1 - p_heads])\n",
    "            \n",
    "            if coin_flip == 'heads': # if coin_flip is heads\n",
    "                if player == 1:     # and if it's player A\n",
    "                    a_count += 1    # add one to A wins count\n",
    "                \n",
    "                # since coin_flip was heads, this game is over.\n",
    "                # break out of the while loop and start a new game!\n",
    "                break               \n",
    "                \n",
    "            else:                   # if coin_flip was tails, then:\n",
    "                player *= -1        # same as player = player * -1\n",
    "                                    # then we return to the top of\n",
    "                                    # the while loop!\n",
    "    return (a_count / n)"
   ]
  },
  {
   "cell_type": "code",
   "execution_count": 39,
   "metadata": {},
   "outputs": [
    {
     "data": {
      "text/plain": [
       "0.5066"
      ]
     },
     "execution_count": 39,
     "metadata": {},
     "output_type": "execute_result"
    }
   ],
   "source": [
    "coin_game_unfair(10_000, 0.01)"
   ]
  },
  {
   "cell_type": "code",
   "execution_count": 40,
   "metadata": {},
   "outputs": [
    {
     "data": {
      "text/plain": [
       "0.5166"
      ]
     },
     "execution_count": 40,
     "metadata": {},
     "output_type": "execute_result"
    }
   ],
   "source": [
    "coin_game_unfair(10_000, 0.05)"
   ]
  },
  {
   "cell_type": "code",
   "execution_count": 41,
   "metadata": {},
   "outputs": [
    {
     "data": {
      "text/plain": [
       "0.5256"
      ]
     },
     "execution_count": 41,
     "metadata": {},
     "output_type": "execute_result"
    }
   ],
   "source": [
    "coin_game_unfair(10_000, 0.1)"
   ]
  },
  {
   "cell_type": "code",
   "execution_count": 42,
   "metadata": {},
   "outputs": [
    {
     "data": {
      "text/plain": [
       "0.6615"
      ]
     },
     "execution_count": 42,
     "metadata": {},
     "output_type": "execute_result"
    }
   ],
   "source": [
    "coin_game_unfair(10_000, 0.5)"
   ]
  },
  {
   "cell_type": "code",
   "execution_count": 43,
   "metadata": {},
   "outputs": [
    {
     "data": {
      "text/plain": [
       "0.9127"
      ]
     },
     "execution_count": 43,
     "metadata": {},
     "output_type": "execute_result"
    }
   ],
   "source": [
    "coin_game_unfair(10_000, 0.9)"
   ]
  },
  {
   "cell_type": "code",
   "execution_count": 44,
   "metadata": {},
   "outputs": [
    {
     "data": {
      "text/plain": [
       "0.9898"
      ]
     },
     "execution_count": 44,
     "metadata": {},
     "output_type": "execute_result"
    }
   ],
   "source": [
    "coin_game_unfair(10_000, 0.99)"
   ]
  },
  {
   "cell_type": "markdown",
   "metadata": {},
   "source": [
    "### Interview Problem *(advanced)*: Suppose I have a stick of length 1. I randomly break this stick in two places. What is the probability that the three pieces can form a triangle? (Note that a triangle can be formed if and only if the length of each side is smaller than the sum of the other two sides.)\n",
    "- Hint: You may want to use [`np.random.uniform`](https://docs.scipy.org/doc/numpy/reference/generated/numpy.random.uniform.html) to pick a random place to break your stick."
   ]
  },
  {
   "cell_type": "code",
   "execution_count": 45,
   "metadata": {},
   "outputs": [],
   "source": [
    "# Defining a function with n simulations, estimating the probability of forming a triangle.\n",
    "\n",
    "def triangle_prob(n): \n",
    "    # Set up counter to track how many valid triangles we get.\n",
    "    count = 0 \n",
    "    \n",
    "    for i in range(n):\n",
    "        # Randomly cut our stick in one place.\n",
    "        break_1 = np.random.uniform(0,1) \n",
    "        \n",
    "        # Randomly cut our stick in another place.\n",
    "        break_2 = np.random.uniform(0,1) \n",
    "        \n",
    "        # Make sure left_break is the one closer to 0.\n",
    "        left_break = min(break_1, break_2) \n",
    "        \n",
    "        # Make sure right_break is the one closer to 1.\n",
    "        right_break = max(break_1, break_2) \n",
    "        \n",
    "        # At this point, we have our \"stick\" from 0 to 1. It's broken in two places.\n",
    "        # left_break is the break closer to 0 and right_break is the break closer to 1.\n",
    "        # Now we want to see if the length of any side is greater than 0.5.\n",
    "        # If any side length is greater than 0.5, then the sum of the other two sides\n",
    "        # must be less than 0.5, so we cannot form a valid triangle!\n",
    "        \n",
    "        if (1 - right_break) < 0.5 and (right_break - left_break) < 0.5 and (left_break - 0) < 0.5:\n",
    "            # All sides are less than 0.5, so the triangle must be valid.\n",
    "            count += 1 \n",
    "            \n",
    "    # Return percentage of the time a valid triangle is formed.\n",
    "    return count / n"
   ]
  },
  {
   "cell_type": "code",
   "execution_count": 46,
   "metadata": {},
   "outputs": [
    {
     "data": {
      "text/plain": [
       "0.25124"
      ]
     },
     "execution_count": 46,
     "metadata": {},
     "output_type": "execute_result"
    }
   ],
   "source": [
    "triangle_prob(100_000)"
   ]
  }
 ],
 "metadata": {
  "kernelspec": {
   "display_name": "Python 3",
   "language": "python",
   "name": "python3"
  },
  "language_info": {
   "codemirror_mode": {
    "name": "ipython",
    "version": 3
   },
   "file_extension": ".py",
   "mimetype": "text/x-python",
   "name": "python",
   "nbconvert_exporter": "python",
   "pygments_lexer": "ipython3",
   "version": "3.6.8"
  }
 },
 "nbformat": 4,
 "nbformat_minor": 2
}
