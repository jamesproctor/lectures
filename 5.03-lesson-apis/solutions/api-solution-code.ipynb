{
 "cells": [
  {
   "cell_type": "markdown",
   "metadata": {},
   "source": [
    "<img src=\"http://imgur.com/1ZcRyrc.png\" style=\"float: left; margin: 20px; height: 55px\">\n",
    "\n",
    "# Introduction to APIs"
   ]
  },
  {
   "cell_type": "markdown",
   "metadata": {},
   "source": [
    "## The `requests` Library\n",
    "The `requests` library is a library for submitting HTTP requests from Python. Despite its frequent use, it's not included in the Python standard library. You'll need to `pip install requests` yourself.\n",
    "![](../imgs/pokeapi.png)"
   ]
  },
  {
   "cell_type": "code",
   "execution_count": null,
   "metadata": {},
   "outputs": [],
   "source": [
    "import requests"
   ]
  },
  {
   "cell_type": "code",
   "execution_count": null,
   "metadata": {},
   "outputs": [],
   "source": [
    "# Create url for API call.\n",
    "url_squirtle = \"https://pokeapi.co/api/v2/pokemon/squirtle\""
   ]
  },
  {
   "cell_type": "code",
   "execution_count": null,
   "metadata": {},
   "outputs": [],
   "source": [
    "# Submit request\n",
    "req = requests.get(url_squirtle)"
   ]
  },
  {
   "cell_type": "code",
   "execution_count": null,
   "metadata": {},
   "outputs": [],
   "source": [
    "# Request response code\n",
    "req.status_code"
   ]
  },
  {
   "cell_type": "code",
   "execution_count": null,
   "metadata": {},
   "outputs": [],
   "source": [
    "# Text of request\n",
    "req.text"
   ]
  },
  {
   "cell_type": "code",
   "execution_count": null,
   "metadata": {},
   "outputs": [],
   "source": [
    "# Bring in the JSON!\n",
    "sq = req.json()\n",
    "type(sq)"
   ]
  },
  {
   "cell_type": "code",
   "execution_count": null,
   "metadata": {},
   "outputs": [],
   "source": [
    "# Since we've converted the JSON -> dict, we know how to work with this!\n",
    "sq.keys()"
   ]
  },
  {
   "cell_type": "code",
   "execution_count": null,
   "metadata": {},
   "outputs": [],
   "source": [
    "# Height, Weight\n",
    "print(sq['height'])\n",
    "print(sq['weight'])"
   ]
  },
  {
   "cell_type": "code",
   "execution_count": null,
   "metadata": {},
   "outputs": [],
   "source": [
    "# Sprites?\n",
    "sq['sprites']"
   ]
  },
  {
   "cell_type": "code",
   "execution_count": null,
   "metadata": {},
   "outputs": [],
   "source": [
    "# What moves can squirtle learn?\n",
    "sq['moves']"
   ]
  },
  {
   "cell_type": "code",
   "execution_count": null,
   "metadata": {},
   "outputs": [],
   "source": [
    "# Whoa! Let's build a function to extract a pokemon's possible moves\n",
    "def get_move(move):\n",
    "    return move['move']['name']"
   ]
  },
  {
   "cell_type": "code",
   "execution_count": null,
   "metadata": {},
   "outputs": [],
   "source": [
    "sq_moves = [get_move(move) for move in sq['moves']]"
   ]
  },
  {
   "cell_type": "markdown",
   "metadata": {},
   "source": [
    "## Ok, let's try a more complicated API - for stocks!\n",
    "![](../imgs/alpha-vantage.png)\n",
    "If you haven't already - grab your free API key for Alpha Vantage [here](https://www.alphavantage.co). It takes five seconds.\n",
    "\n",
    "**(THREAD): Why do you think companies would require the use of an API key?**\n",
    "\n",
    "Alpha Vantage has documentation [here](https://www.alphavantage.co/documentation/)."
   ]
  },
  {
   "cell_type": "code",
   "execution_count": null,
   "metadata": {},
   "outputs": [],
   "source": [
    "# Most APIs have a single base URL from which API calls are made.\n",
    "# If you look closely at the examples, this is Alpha Vantage's.\n",
    "base_url = \"https://www.alphavantage.co/query\""
   ]
  },
  {
   "cell_type": "code",
   "execution_count": null,
   "metadata": {},
   "outputs": [],
   "source": [
    "# Let's build out this request.\n",
    "# This is a very common format for pure API requests to come in\n",
    "req = requests.get(\n",
    "    base_url,\n",
    "    params={\n",
    "        \"function\": \"TIME_SERIES_DAILY\",\n",
    "        \"symbol\": \"AAPL\",\n",
    "        \"apikey\": \"\"\n",
    "    }\n",
    ")"
   ]
  },
  {
   "cell_type": "code",
   "execution_count": null,
   "metadata": {},
   "outputs": [],
   "source": [
    "# Let's grab that data!\n",
    "data = req.json()"
   ]
  },
  {
   "cell_type": "code",
   "execution_count": null,
   "metadata": {},
   "outputs": [],
   "source": [
    "# Well, this looks like a familiar format...\n",
    "data = data['Time Series (Daily)']"
   ]
  },
  {
   "cell_type": "code",
   "execution_count": null,
   "metadata": {},
   "outputs": [],
   "source": [
    "import pandas as pd"
   ]
  },
  {
   "cell_type": "code",
   "execution_count": null,
   "metadata": {},
   "outputs": [],
   "source": [
    "pd.DataFrame(data).T.head()"
   ]
  },
  {
   "cell_type": "markdown",
   "metadata": {},
   "source": [
    "### Challenge\n",
    "Write your own function that inputs a ticker symbol and outputs the above."
   ]
  },
  {
   "cell_type": "code",
   "execution_count": null,
   "metadata": {},
   "outputs": [],
   "source": [
    "def get_price_data(sym):\n",
    "    base_url = \"https://www.alphavantage.co/query\"\n",
    "    req = requests.get(\n",
    "        base_url,\n",
    "        params={\n",
    "            \"function\": \"TIME_SERIES_DAILY\",\n",
    "            \"symbol\": sym,\n",
    "            \"apikey\": \"\"\n",
    "        }\n",
    "    )\n",
    "    data = req.json()['Time Series (Daily)']\n",
    "    return pd.DataFrame(data).T"
   ]
  },
  {
   "cell_type": "code",
   "execution_count": null,
   "metadata": {},
   "outputs": [],
   "source": [
    "get_price_data('AAPL').head()"
   ]
  },
  {
   "cell_type": "markdown",
   "metadata": {},
   "source": [
    "### Did this feel like a lot of work? You're not alone.\n",
    "For web APIs such as these, open sourcerers (ordinary programmers like you and me!) like to build language-specific **API wrappers** to easier call the API. Interestingly, based on our very vague definition of APIs, API wrappers are also themselves APIs!\n",
    "\n",
    "Alpha Vantage has a Python API wrapper made by user `RomelTorres` [here](https://github.com/RomelTorres/alpha_vantage)!\n",
    "\n",
    "![](../imgs/opensource.jpg)"
   ]
  },
  {
   "cell_type": "markdown",
   "metadata": {},
   "source": [
    "## You want data? You got data.\n",
    "\n",
    "### Key Takeaway #1: Your favorite thing has a free API\n",
    "* **Stock prices**: [Alpha Vantage](https://github.com/RomelTorres/alpha_vantage)\n",
    "* **Cryptocurrency prices**: [ccxt](https://github.com/ccxt/ccxt) provides a unified API for several cryptocurrency markets. You can even buy and sell crypto from within Python!\n",
    "* **Weather**: [OpenWeather](https://openweathermap.org/api)\n",
    "\n",
    "### Key Takeaway #2: Your favorite website has a free API\n",
    "Below is a brief list of websites that have a free API. Note that \"free\" here means \"zero-cost\", not \"permissive and easy to use.\" APIs can be abused. Not all Twitter bots are friendly like [Every Sheriff Bot](https://twitter.com/EverySheriff).\n",
    "* Twitter\n",
    "* Reddit\n",
    "* Yelp\n",
    "* Twitch\n",
    "* Facebook/Instagram\n",
    "* GitHub (yes, even GitHub!)\n",
    "* Most Google services\n",
    "* Spotify\n",
    "* Slack (no, you can't have a key.)"
   ]
  },
  {
   "cell_type": "markdown",
   "metadata": {},
   "source": [
    "## Conclusion & Summary\n",
    "Today we asked for data **nicely** using APIs. Next week we'll use our battering ram, **Beautiful Soup** to do some webscraping.\n",
    "\n",
    "Today, we\n",
    "* Learned how HTTP works and\n",
    "* How we can make HTTP requests from the Python (and also the CL a little)\n",
    "* How to read API documentation and get the data we want from the internet"
   ]
  },
  {
   "cell_type": "code",
   "execution_count": null,
   "metadata": {},
   "outputs": [],
   "source": []
  }
 ],
 "metadata": {
  "kernelspec": {
   "display_name": "Python 3",
   "language": "python",
   "name": "python3"
  },
  "language_info": {
   "codemirror_mode": {
    "name": "ipython",
    "version": 3
   },
   "file_extension": ".py",
   "mimetype": "text/x-python",
   "name": "python",
   "nbconvert_exporter": "python",
   "pygments_lexer": "ipython3",
   "version": "3.6.8"
  }
 },
 "nbformat": 4,
 "nbformat_minor": 2
}
