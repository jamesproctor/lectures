{
 "cells": [
  {
   "cell_type": "markdown",
   "metadata": {},
   "source": [
    "<img src=\"http://imgur.com/1ZcRyrc.png\" style=\"float: left; margin: 20px; height: 55px\">\n",
    "\n",
    "# Python Iteration and Control Flow\n",
    "\n",
    "_Author: Tim Book_\n",
    "\n",
    "---\n",
    "\n",
    "\n",
    "\n",
    "### Learning Objectives\n",
    " \n",
    "- Explore `Python` control flow and conditional programming.  \n",
    "- Apply `if-else` conditional statements.\n",
    "- Explore looping with Python's `for` and `while` loop structures.\n",
    "- Combine control flow and conditional statements to solve the classic \"FizzBuzz\" code challenge.\n",
    "\n",
    "Time permitting:\n",
    "- Demonstrate error-handling using `try, except` statements."
   ]
  },
  {
   "cell_type": "markdown",
   "metadata": {},
   "source": [
    "## What is control flow?\n",
    "\n",
    "Up until now, our Python \"programs\" have been very boring. No pieces of logic have spanned more than one line, and our code was always run top-to-bottom. This is rarely how real code works.\n",
    "\n",
    "* Often we only want a line of code to be run _**sometimes**_. (conditionals!)\n",
    "* Often we want a line of code to run _**many times in a row**_. (loops!)\n",
    "* Often we want to bottle up complex pieces of code and run it _**many times throughout our code, a little different each time, without having to rewrite the whole thing.**_ (functions... tomorrow)"
   ]
  },
  {
   "cell_type": "markdown",
   "metadata": {},
   "source": [
    "<a id='if_else_statements'></a>\n",
    "## Conditional Statements\n",
    "\n",
    "![](imgs/broccoli.jpg)\n",
    "\n",
    "We'll use an `if` statement if we want some code to only run if a certain condition is true.\n",
    "\n",
    "**Conundrum:** You can only have ice cream if you finish your broccoli!"
   ]
  },
  {
   "cell_type": "code",
   "execution_count": 1,
   "metadata": {},
   "outputs": [
    {
     "name": "stdout",
     "output_type": "stream",
     "text": [
      "Time for ice cream! Phish Food or Americone Dream?\n"
     ]
    }
   ],
   "source": [
    "broccoli_finished = True\n",
    "if broccoli_finished:\n",
    "    print(\"Time for ice cream! Phish Food or Americone Dream?\")\n",
    "else:\n",
    "    print(\"No! Finish your broccoli!\")"
   ]
  },
  {
   "cell_type": "markdown",
   "metadata": {},
   "source": [
    "## Did you finish your broccoli?\n",
    "<details>\n",
    "    <summary>Click to reveal your reward:</summary>\n",
    "    <img src=\"imgs/ice-cream.jpg\">\n",
    "</details>"
   ]
  },
  {
   "cell_type": "markdown",
   "metadata": {},
   "source": [
    "## Now You: Health Test\n",
    "\n",
    "Suppose you are processing the results of a health test. The test is scored from 0 to 100, where 100 is perfect health.\n",
    "\n",
    "If the person's health is above 70, print something encouraging. Otherwise, print \"Go to the doctor, now!\""
   ]
  },
  {
   "cell_type": "code",
   "execution_count": 2,
   "metadata": {},
   "outputs": [
    {
     "name": "stdout",
     "output_type": "stream",
     "text": [
      "Not so bad!\n",
      "Go to the gym and eat salad and you should be fine.\n"
     ]
    }
   ],
   "source": [
    "health = 60\n",
    "\n",
    "if health > 70:\n",
    "    print(\"Excellent work! Keep it up.\")\n",
    "elif health > 50:\n",
    "    print(\"Not so bad!\")\n",
    "    print(\"Go to the gym and eat salad and you should be fine.\")\n",
    "else:\n",
    "    print(\"You need to get to a doctor, ASAP!\")"
   ]
  },
  {
   "cell_type": "markdown",
   "metadata": {},
   "source": [
    "## Loopin'\n",
    "\n",
    "![](imgs/loops.jpg)\n",
    "\n",
    "There are a few types of loops in Python. Today we'll tackle `for` and `while` loops.\n",
    "\n",
    "We'll write a `for` loop to loop through some iterable (like a list) and do something for each element."
   ]
  },
  {
   "cell_type": "code",
   "execution_count": 3,
   "metadata": {},
   "outputs": [
    {
     "name": "stdout",
     "output_type": "stream",
     "text": [
      "Hello, Tim!\n",
      "Hello, Riley!\n",
      "Hello, Matt!\n"
     ]
    }
   ],
   "source": [
    "names = ['Tim', 'Riley', 'Matt']\n",
    "for name in names:\n",
    "    print(f\"Hello, {name}!\")"
   ]
  },
  {
   "cell_type": "markdown",
   "metadata": {},
   "source": [
    "You can also loop through sequences of numbers with the `range()` function."
   ]
  },
  {
   "cell_type": "code",
   "execution_count": 4,
   "metadata": {},
   "outputs": [
    {
     "name": "stdout",
     "output_type": "stream",
     "text": [
      "0\n",
      "1\n",
      "2\n",
      "3\n",
      "4\n",
      "5\n",
      "6\n",
      "7\n",
      "8\n",
      "9\n"
     ]
    }
   ],
   "source": [
    "# Range\n",
    "for i in range(10):\n",
    "    print(i)"
   ]
  },
  {
   "cell_type": "markdown",
   "metadata": {},
   "source": [
    "### Now you:"
   ]
  },
  {
   "cell_type": "code",
   "execution_count": 5,
   "metadata": {},
   "outputs": [],
   "source": [
    "# THREAD: Write a loop that prints all of the EVEN numbers between 10 and 20 (inclusive)."
   ]
  },
  {
   "cell_type": "code",
   "execution_count": 6,
   "metadata": {},
   "outputs": [
    {
     "name": "stdout",
     "output_type": "stream",
     "text": [
      "10\n",
      "12\n",
      "14\n",
      "16\n",
      "18\n",
      "20\n"
     ]
    }
   ],
   "source": [
    "# Answer 1:\n",
    "for i in range(10, 21):\n",
    "    if i % 2 == 0:\n",
    "        print(i)"
   ]
  },
  {
   "cell_type": "code",
   "execution_count": 7,
   "metadata": {},
   "outputs": [
    {
     "name": "stdout",
     "output_type": "stream",
     "text": [
      "10\n",
      "12\n",
      "14\n",
      "16\n",
      "18\n",
      "20\n"
     ]
    }
   ],
   "source": [
    "# Answer 2:\n",
    "for i in range(10, 21, 2):\n",
    "    print(i)"
   ]
  },
  {
   "cell_type": "markdown",
   "metadata": {},
   "source": [
    "## Aside: Strange Loops!\n",
    "You can also loop through more exotic objects that take advantage of _tuple unpacking!_ We won't see this very often, but when we do, it'll be really handy."
   ]
  },
  {
   "cell_type": "code",
   "execution_count": 8,
   "metadata": {},
   "outputs": [
    {
     "name": "stdout",
     "output_type": "stream",
     "text": [
      "Zebra is a type of mammal.\n",
      "Tuna is a type of fish.\n",
      "Python is a type of reptile.\n",
      "Panda is a type of mammal.\n",
      "Frog is a type of amphibian.\n"
     ]
    }
   ],
   "source": [
    "animals = [\n",
    "    ('zebra', 'mammal'),\n",
    "    ('tuna', 'fish'),\n",
    "    ('python', 'reptile'),\n",
    "    ('panda', 'mammal'),\n",
    "    ('frog', 'amphibian')\n",
    "]\n",
    "\n",
    "for animal, cls in animals:\n",
    "    print(f\"{animal.title()} is a type of {cls}.\")"
   ]
  },
  {
   "cell_type": "code",
   "execution_count": 9,
   "metadata": {},
   "outputs": [
    {
     "name": "stdout",
     "output_type": "stream",
     "text": [
      "Zebra is a type of mammal.\n",
      "Tuna is a type of fish.\n",
      "Python is a type of reptile.\n",
      "Panda is a type of mammal.\n",
      "Frog is a type of amphibian.\n"
     ]
    }
   ],
   "source": [
    "animals = {\n",
    "    'zebra': 'mammal',\n",
    "    'tuna': 'fish',\n",
    "    'python': 'reptile',\n",
    "    'panda': 'mammal',\n",
    "    'frog': 'amphibian'\n",
    "}\n",
    "\n",
    "for animal, cls in animals.items():\n",
    "    print(f\"{animal.title()} is a type of {cls}.\")"
   ]
  },
  {
   "cell_type": "markdown",
   "metadata": {},
   "source": [
    "###  While Loops\n",
    "Less common than `for` loops, while loops run until some condition is _not_ met. They're useful for when you don't know how long a loop should run for."
   ]
  },
  {
   "cell_type": "code",
   "execution_count": 10,
   "metadata": {},
   "outputs": [
    {
     "name": "stdout",
     "output_type": "stream",
     "text": [
      "0\n",
      "1\n",
      "2\n",
      "3\n",
      "4\n",
      "5\n"
     ]
    }
   ],
   "source": [
    "x = 0\n",
    "while x < 6:\n",
    "    print(x)\n",
    "    x += 1"
   ]
  },
  {
   "cell_type": "code",
   "execution_count": 11,
   "metadata": {},
   "outputs": [],
   "source": [
    "# Infinite loop?!\n",
    "# x = 0\n",
    "# while x < 6:\n",
    "#     print(x)"
   ]
  },
  {
   "cell_type": "code",
   "execution_count": 12,
   "metadata": {},
   "outputs": [
    {
     "name": "stdout",
     "output_type": "stream",
     "text": [
      "This loop has run for 1 iterations.\n",
      "This loop has run for 2 iterations.\n",
      "This loop has run for 3 iterations.\n",
      "This loop has run for 4 iterations.\n",
      "This loop has run for 5 iterations.\n"
     ]
    }
   ],
   "source": [
    "import random\n",
    "n_iters = 0\n",
    "r = 1\n",
    "while r > 0.1:\n",
    "    n_iters += 1\n",
    "    print(f\"This loop has run for {n_iters} iterations.\")\n",
    "    r = random.random()"
   ]
  },
  {
   "cell_type": "markdown",
   "metadata": {},
   "source": [
    "## Error Handling\n",
    "Sometimes, you might actually expect for your program to fail! We can account for this using `try` and `except` clauses."
   ]
  },
  {
   "cell_type": "code",
   "execution_count": 13,
   "metadata": {},
   "outputs": [],
   "source": [
    "# 1/0"
   ]
  },
  {
   "cell_type": "code",
   "execution_count": 14,
   "metadata": {},
   "outputs": [],
   "source": [
    "# 'a' - 'b'"
   ]
  },
  {
   "cell_type": "code",
   "execution_count": 15,
   "metadata": {},
   "outputs": [
    {
     "name": "stdout",
     "output_type": "stream",
     "text": [
      "Here I go, dividing by zero...\n",
      "STOP RIGHT THERE! Dividing by zero might open a black hole.\n"
     ]
    }
   ],
   "source": [
    "try:\n",
    "    print(\"Here I go, dividing by zero...\")\n",
    "    1 / 0\n",
    "    print(\"OH NO A BLACK HOLE!\")\n",
    "except:\n",
    "    print(\"STOP RIGHT THERE! Dividing by zero might open a black hole.\")"
   ]
  },
  {
   "cell_type": "markdown",
   "metadata": {},
   "source": [
    "## What did we do today?\n",
    "- Learned how to _control the flow_ of our program.\n",
    "- `if`/`elif`/`else` conditional statements.\n",
    "- `for` and `while` loops.\n",
    "- Error handling with `try`/`except`."
   ]
  },
  {
   "cell_type": "markdown",
   "metadata": {},
   "source": [
    "## Further resources\n",
    "- [Automate the Boring Stuff with Python](https://automatetheboringstuff.com)\n",
    "- The `exercises.ipynb` notebook in this repo! Actually, let's go there now!"
   ]
  }
 ],
 "metadata": {
  "kernelspec": {
   "display_name": "Python 3",
   "language": "python",
   "name": "python3"
  },
  "language_info": {
   "codemirror_mode": {
    "name": "ipython",
    "version": 3
   },
   "file_extension": ".py",
   "mimetype": "text/x-python",
   "name": "python",
   "nbconvert_exporter": "python",
   "pygments_lexer": "ipython3",
   "version": "3.6.8"
  }
 },
 "nbformat": 4,
 "nbformat_minor": 1
}
